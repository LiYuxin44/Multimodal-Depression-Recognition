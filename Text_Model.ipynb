{
 "cells": [
  {
   "cell_type": "markdown",
   "metadata": {
    "id": "eBVI_33nC-4i"
   },
   "source": [
    "# Text Model"
   ]
  },
  {
   "cell_type": "markdown",
   "metadata": {
    "id": "6aE9iRLWDG2a"
   },
   "source": [
    "**Step 1: Import Libraries**"
   ]
  },
  {
   "cell_type": "code",
   "execution_count": 1,
   "metadata": {
    "colab": {
     "base_uri": "https://localhost:8080/"
    },
    "id": "nHzND_vKY2K6",
    "outputId": "217756e6-9deb-433a-b17c-a246439a7de9"
   },
   "outputs": [
    {
     "name": "stdout",
     "output_type": "stream",
     "text": [
      "Mounted at /content/drive\n"
     ]
    },
    {
     "name": "stderr",
     "output_type": "stream",
     "text": [
      "[nltk_data] Downloading package stopwords to /root/nltk_data...\n",
      "[nltk_data]   Unzipping corpora/stopwords.zip.\n"
     ]
    }
   ],
   "source": [
    "from google.colab import drive\n",
    "drive.mount('/content/drive')\n",
    "import nltk\n",
    "nltk.download('stopwords')\n",
    "import numpy as np\n",
    "import pandas as pd\n",
    "from gensim.models.keyedvectors import KeyedVectors\n",
    "import gc\n",
    "from keras.models import Sequential\n",
    "from keras.layers import Conv2D\n",
    "from keras.layers import MaxPooling2D\n",
    "from keras.layers import Dense\n",
    "from smart_open import open\n",
    "from nltk.corpus import stopwords\n",
    "from matplotlib import pyplot as plt\n",
    "from keras.layers import LSTM, TimeDistributed\n",
    "from keras.layers import Dot, Activation, Flatten, Multiply, Permute, RepeatVector, Lambda, Softmax, Dropout\n",
    "from keras.layers import Layer, Reshape\n",
    "from keras import backend as K\n",
    "\n",
    "from sklearn.metrics import accuracy_score, f1_score, recall_score, precision_score"
   ]
  },
  {
   "cell_type": "markdown",
   "metadata": {
    "id": "aNeMajyxDqE2"
   },
   "source": [
    "**Step 2: Import Text Preprocessed Data**"
   ]
  },
  {
   "cell_type": "code",
   "execution_count": 2,
   "metadata": {
    "id": "hlxum0a4FJAY"
   },
   "outputs": [],
   "source": [
    "finalMatrix= np.load(file=\"/content/drive/My Drive/finalMatrix.npy\")\n",
    "Y= np.load(file=\"/content/drive/My Drive/text_Y.npy\")\n",
    "finalMatrix_test= np.load(file=\"/content/drive/My Drive/finalMatrix_test.npy\")\n",
    "Y_test= np.load(file=\"/content/drive/My Drive/text_Y_test.npy\")"
   ]
  },
  {
   "cell_type": "markdown",
   "metadata": {
    "id": "SSnX_1cKh4TP"
   },
   "source": [
    "**Step 3: Text Baseline -- CNN Text Model**"
   ]
  },
  {
   "cell_type": "code",
   "execution_count": 3,
   "metadata": {
    "id": "GmPEjR7CI0d8"
   },
   "outputs": [],
   "source": [
    "def Thresholding(Y_pred, threshold):\n",
    "  Y_pred2 = []\n",
    "  for i in range(len(Y_pred)):\n",
    "    if(Y_pred[i] < threshold):\n",
    "      Y_pred2.append(0)\n",
    "    else:\n",
    "      Y_pred2.append(1)\n",
    "\n",
    "  return np.array(Y_pred2)"
   ]
  },
  {
   "cell_type": "code",
   "execution_count": 4,
   "metadata": {
    "id": "IHAct9Gh6G4Z"
   },
   "outputs": [],
   "source": [
    "class CNN_Text:\n",
    "  def __init__(self):\n",
    "    # Initialising the CNN\n",
    "    classifier = Sequential()\n",
    "    # Step 1 - Convolution\n",
    "    classifier.add(Conv2D(150, (1, 5), input_shape = (finalMatrix.shape[1], finalMatrix.shape[2], finalMatrix.shape[3]), activation = 'relu', data_format=\"channels_last\"))\n",
    "    # Step 2 - Pooling\n",
    "    classifier.add(MaxPooling2D(pool_size = (1, 3)))\n",
    "    # Adding a second convolutional layer\n",
    "    classifier.add(Conv2D(75, (1, 3), activation = 'relu', data_format=\"channels_last\"))\n",
    "    classifier.add(MaxPooling2D(pool_size = (1, 2)))\n",
    "    # Step 3 - Flattening\n",
    "    classifier.add(Flatten())\n",
    "    # Step 4 - Full connection\n",
    "    classifier.add(Dense(units = 128, activation = 'relu'))\n",
    "    classifier.add(Dense(units = 1, activation = 'sigmoid'))\n",
    "    # Compiling the CNN\n",
    "    classifier.compile(optimizer = 'adam', loss = 'binary_crossentropy', metrics = ['accuracy'])\n",
    "    self.classifier = classifier\n",
    "\n",
    "\n",
    "  def fitModel(self, X, Y, epoch = 10):\n",
    "    class_weight = {0: 0.5, 1: 0.6}\n",
    "    return self.classifier.fit(X, Y, epochs = epoch, class_weight=class_weight)\n",
    "\n",
    "  def predictModel(self, X):\n",
    "    return Thresholding(self.classifier.predict(X), 0.5)\n",
    "\n"
   ]
  },
  {
   "cell_type": "markdown",
   "metadata": {
    "id": "FP47bezkGpRk"
   },
   "source": [
    "**Step 4: Training and Testing**"
   ]
  },
  {
   "cell_type": "code",
   "execution_count": 6,
   "metadata": {
    "colab": {
     "base_uri": "https://localhost:8080/",
     "height": 852
    },
    "id": "8dfSqKPsZzI_",
    "outputId": "936790a3-3ad9-4cca-b435-570e4843f26f"
   },
   "outputs": [
    {
     "name": "stdout",
     "output_type": "stream",
     "text": [
      "Epoch 1/10\n",
      "7/7 [==============================] - 19s 3s/step - loss: 0.3728 - accuracy: 0.5750\n",
      "Epoch 2/10\n",
      "7/7 [==============================] - 18s 3s/step - loss: 0.2005 - accuracy: 0.8950\n",
      "Epoch 3/10\n",
      "7/7 [==============================] - 20s 3s/step - loss: 0.0500 - accuracy: 0.9850\n",
      "Epoch 4/10\n",
      "7/7 [==============================] - 18s 3s/step - loss: 0.0631 - accuracy: 0.9650\n",
      "Epoch 5/10\n",
      "7/7 [==============================] - 19s 3s/step - loss: 0.0133 - accuracy: 1.0000\n",
      "Epoch 6/10\n",
      "7/7 [==============================] - 29s 4s/step - loss: 0.0130 - accuracy: 1.0000\n",
      "Epoch 7/10\n",
      "7/7 [==============================] - 28s 4s/step - loss: 0.0064 - accuracy: 1.0000\n",
      "Epoch 8/10\n",
      "7/7 [==============================] - 23s 3s/step - loss: 0.0025 - accuracy: 1.0000\n",
      "Epoch 9/10\n",
      "7/7 [==============================] - 18s 3s/step - loss: 7.0780e-04 - accuracy: 1.0000\n",
      "Epoch 10/10\n",
      "7/7 [==============================] - 18s 3s/step - loss: 4.1279e-04 - accuracy: 1.0000\n"
     ]
    },
    {
     "data": {
      "image/png": "[encoded data removed]",
      "text/plain": [
       "<Figure size 1000x500 with 1 Axes>"
      ]
     },
     "metadata": {},
     "output_type": "display_data"
    },
    {
     "name": "stdout",
     "output_type": "stream",
     "text": [
      "2/2 [==============================] - 3s 470ms/step\n"
     ]
    }
   ],
   "source": [
    "import matplotlib.pyplot as plt\n",
    "import seaborn as sns\n",
    "from sklearn.metrics import confusion_matrix, classification_report\n",
    "\n",
    "\n",
    "model = CNN_Text()\n",
    "history = model.fitModel(finalMatrix, Y, 10)\n",
    "\n",
    "\n",
    "plt.figure(figsize=(10,5))\n",
    "plt.plot(history.history['loss'], label='Training Loss')\n",
    "plt.title('Model Loss Progress During Training')\n",
    "plt.xlabel('Epoch')\n",
    "plt.ylabel('Training Loss')\n",
    "plt.legend(['Training Loss'])\n",
    "plt.show()\n",
    "\n",
    "\n",
    "Y_Pred = model.predictModel(finalMatrix_test)"
   ]
  },
  {
   "cell_type": "code",
   "execution_count": 7,
   "metadata": {
    "colab": {
     "base_uri": "https://localhost:8080/"
    },
    "id": "vjWzvqqqFa_A",
    "outputId": "26f65557-4ea6-4e8d-8638-c7e0fcdae9c5"
   },
   "outputs": [
    {
     "name": "stdout",
     "output_type": "stream",
     "text": [
      "Accuracy on test set: 0.62\n",
      "F1 Score on test set: 0.53\n",
      "Recall on test set: 0.40\n",
      "Precision on test set: 0.78\n"
     ]
    }
   ],
   "source": [
    "accuracy = accuracy_score(Y_test, Y_Pred)\n",
    "print(f\"Accuracy on test set: {accuracy:.2f}\")\n",
    "\n",
    "f1 = f1_score(Y_test, Y_Pred)\n",
    "print(f\"F1 Score on test set: {f1:.2f}\")\n",
    "\n",
    "\n",
    "recall = recall_score(Y_test, Y_Pred)\n",
    "print(f\"Recall on test set: {recall:.2f}\")\n",
    "\n",
    "\n",
    "precision = precision_score(Y_test, Y_Pred)\n",
    "print(f\"Precision on test set: {precision:.2f}\")"
   ]
  },
  {
   "cell_type": "markdown",
   "metadata": {
    "id": "29BjZO1YrOgZ"
   },
   "source": [
    "**Step 5: Text Baseline -- LSTM Text Model**\n"
   ]
  },
  {
   "cell_type": "code",
   "execution_count": 4,
   "metadata": {
    "id": "w5Uo6rHbrS2Q"
   },
   "outputs": [],
   "source": [
    "from keras.models import Sequential\n",
    "from keras.layers import LSTM, Dense, Dropout\n",
    "\n",
    "class LSTM_Text:\n",
    "    def __init__(self, input_shape):\n",
    "        # Initializing the LSTM\n",
    "        classifier = Sequential()\n",
    "        # LSTM layer\n",
    "        classifier.add(LSTM(100, input_shape=input_shape, return_sequences=True))\n",
    "        classifier.add(Dropout(0.2))\n",
    "        # Another LSTM layer\n",
    "        classifier.add(LSTM(50, return_sequences=False))\n",
    "        classifier.add(Dropout(0.2))\n",
    "        # Full connection\n",
    "        classifier.add(Dense(units=128, activation='relu'))\n",
    "        classifier.add(Dense(units=1, activation='sigmoid'))\n",
    "        # Compiling the LSTM\n",
    "        classifier.compile(optimizer='adam', loss='binary_crossentropy', metrics=['accuracy'])\n",
    "        self.classifier = classifier\n",
    "\n",
    "    def fitModel(self, X, Y, epoch=10):\n",
    "        class_weight = {0: 0.5, 1: 0.6}\n",
    "        return self.classifier.fit(X, Y, epochs=epoch, class_weight=class_weight)\n",
    "\n",
    "    def predictModel(self, X):\n",
    "        return Thresholding(self.classifier.predict(X), 0.5)\n"
   ]
  },
  {
   "cell_type": "markdown",
   "metadata": {
    "id": "U4_Leokm2oQ1"
   },
   "source": [
    "**Step 6: Training and Testing**"
   ]
  },
  {
   "cell_type": "code",
   "execution_count": 11,
   "metadata": {
    "colab": {
     "base_uri": "https://localhost:8080/",
     "height": 852
    },
    "id": "a9aQSHGnrwwR",
    "outputId": "dd3358a0-e7f4-4884-948b-d358ce1d02f1"
   },
   "outputs": [
    {
     "name": "stdout",
     "output_type": "stream",
     "text": [
      "Epoch 1/10\n",
      "7/7 [==============================] - 28s 3s/step - loss: 0.3802 - accuracy: 0.4950\n",
      "Epoch 2/10\n",
      "7/7 [==============================] - 19s 3s/step - loss: 0.3704 - accuracy: 0.5000\n",
      "Epoch 3/10\n",
      "7/7 [==============================] - 19s 3s/step - loss: 0.3575 - accuracy: 0.5400\n",
      "Epoch 4/10\n",
      "7/7 [==============================] - 21s 3s/step - loss: 0.3340 - accuracy: 0.5550\n",
      "Epoch 5/10\n",
      "7/7 [==============================] - 21s 3s/step - loss: 0.3290 - accuracy: 0.5500\n",
      "Epoch 6/10\n",
      "7/7 [==============================] - 24s 4s/step - loss: 0.3242 - accuracy: 0.6300\n",
      "Epoch 7/10\n",
      "7/7 [==============================] - 20s 3s/step - loss: 0.3162 - accuracy: 0.6250\n",
      "Epoch 8/10\n",
      "7/7 [==============================] - 21s 3s/step - loss: 0.3105 - accuracy: 0.6300\n",
      "Epoch 9/10\n",
      "7/7 [==============================] - 20s 3s/step - loss: 0.3046 - accuracy: 0.6050\n",
      "Epoch 10/10\n",
      "7/7 [==============================] - 19s 3s/step - loss: 0.2970 - accuracy: 0.6300\n"
     ]
    },
    {
     "data": {
      "image/png": "[encoded data removed]",
      "text/plain": [
       "<Figure size 1000x500 with 1 Axes>"
      ]
     },
     "metadata": {},
     "output_type": "display_data"
    },
    {
     "name": "stdout",
     "output_type": "stream",
     "text": [
      "2/2 [==============================] - 3s 483ms/step\n"
     ]
    }
   ],
   "source": [
    "import matplotlib.pyplot as plt\n",
    "import seaborn as sns\n",
    "from sklearn.metrics import confusion_matrix, classification_report\n",
    "\n",
    "finalMatrix_LSTM = finalMatrix.reshape(-1, 250, 20*300)\n",
    "finalMatrix_test_LSTM = finalMatrix_test.reshape(-1, 250, 20*300)\n",
    "\n",
    "input_shape = (250, 20*300)\n",
    "\n",
    "model = LSTM_Text(input_shape)\n",
    "history = model.fitModel(finalMatrix_LSTM, Y, 10)\n",
    "\n",
    "plt.figure(figsize=(10,5))\n",
    "plt.plot(history.history['loss'], label='Training Loss')\n",
    "plt.title('Model Loss Progress During Training')\n",
    "plt.xlabel('Epoch')\n",
    "plt.ylabel('Training Loss')\n",
    "plt.legend(['Training Loss'])\n",
    "plt.show()\n",
    "\n",
    "Y_Pred = model.predictModel(finalMatrix_test_LSTM)\n"
   ]
  },
  {
   "cell_type": "code",
   "execution_count": 13,
   "metadata": {
    "colab": {
     "base_uri": "https://localhost:8080/"
    },
    "id": "VAUMX8P4x9qU",
    "outputId": "c1f65969-4655-4a79-f0ae-ec9c2d935f09"
   },
   "outputs": [
    {
     "name": "stdout",
     "output_type": "stream",
     "text": [
      "Accuracy on test set: 0.60\n",
      "F1 Score on test set: 0.54\n",
      "Recall on test set: 0.42\n",
      "Precision on test set: 0.76\n"
     ]
    }
   ],
   "source": [
    "accuracy = accuracy_score(Y_test, Y_Pred)\n",
    "print(f\"Accuracy on test set: {accuracy:.2f}\")\n",
    "\n",
    "f1 = f1_score(Y_test, Y_Pred)\n",
    "print(f\"F1 Score on test set: {f1:.2f}\")\n",
    "\n",
    "\n",
    "recall = recall_score(Y_test, Y_Pred)\n",
    "print(f\"Recall on test set: {recall:.2f}\")\n",
    "\n",
    "\n",
    "precision = precision_score(Y_test, Y_Pred)\n",
    "print(f\"Precision on test set: {precision:.2f}\")"
   ]
  },
  {
   "cell_type": "markdown",
   "metadata": {
    "id": "5YmhXKFAh7rn"
   },
   "source": [
    "**Step 7: CNN+LSTM+Attention Text Model**"
   ]
  },
  {
   "cell_type": "code",
   "execution_count": 12,
   "metadata": {
    "id": "Yg2pt_ozMyGf"
   },
   "outputs": [],
   "source": [
    "class Attention(Layer):\n",
    "    def __init__(self, return_sequences=True):\n",
    "        self.return_sequences = return_sequences\n",
    "        super(Attention,self).__init__()\n",
    "\n",
    "    def build(self, input_shape):\n",
    "\n",
    "        self.W=self.add_weight(name=\"att_weight\", shape=(input_shape[-1],1),\n",
    "                               initializer=\"normal\")\n",
    "        self.b=self.add_weight(name=\"att_bias\", shape=(input_shape[1],1),\n",
    "                               initializer=\"zeros\")\n",
    "\n",
    "        super(Attention,self).build(input_shape)\n",
    "\n",
    "    def call(self, x):\n",
    "\n",
    "        e = K.tanh(K.dot(x,self.W)+self.b)\n",
    "        a = K.softmax(e, axis=1)\n",
    "        output = x*a\n",
    "\n",
    "        if self.return_sequences:\n",
    "            return output\n",
    "\n",
    "        return K.sum(output, axis=1)\n"
   ]
  },
  {
   "cell_type": "code",
   "execution_count": 10,
   "metadata": {
    "id": "I6nMbnb7ekRX"
   },
   "outputs": [],
   "source": [
    "class CNN_LSTM_Text:\n",
    "    def __init__(self):\n",
    "        # Initialising the CNN\n",
    "        classifier = Sequential()\n",
    "        # Step 1 - Convolution\n",
    "        classifier.add(Conv2D(150, (1, 5), input_shape = (finalMatrix.shape[1], finalMatrix.shape[2], finalMatrix.shape[3]), activation = 'relu', data_format=\"channels_last\"))\n",
    "        # Step 2 - Pooling\n",
    "        classifier.add(MaxPooling2D(pool_size = (1, 3)))\n",
    "        # Adding a second convolutional layer\n",
    "        classifier.add(Conv2D(75, (1, 3), activation = 'relu', data_format=\"channels_last\"))\n",
    "        classifier.add(MaxPooling2D(pool_size = (1, 2)))\n",
    "        # Adding LSTM layer\n",
    "        classifier.add(TimeDistributed(Flatten()))\n",
    "        classifier.add(LSTM(128, return_sequences=True))   # Add first LSTM Layer\n",
    "        classifier.add(LSTM(64, return_sequences=True))   # Add second LSTM Layer\n",
    "\n",
    "        # Attention Layer\n",
    "        classifier.add(Attention(return_sequences=False))\n",
    "        # Step 4 - Full connection\n",
    "        classifier.add(Dense(units = 128, activation = 'relu'))\n",
    "        classifier.add(Dense(units = 1, activation = 'sigmoid'))\n",
    "        # Compiling the CNN\n",
    "        classifier.compile(optimizer = 'adam', loss = 'binary_crossentropy', metrics = ['accuracy'])\n",
    "        self.classifier = classifier\n",
    "\n",
    "\n",
    "    def fitModel(self, X, Y, epoch = 10):\n",
    "        class_weight = {0: 0.5, 1: 0.6}\n",
    "        return self.classifier.fit(X, Y, epochs = epoch, class_weight=class_weight)\n",
    "\n",
    "    def predictModel(self, X):\n",
    "        return Thresholding(self.classifier.predict(X), 0.5)\n"
   ]
  },
  {
   "cell_type": "markdown",
   "metadata": {
    "id": "LBTTGQ9gGxbD"
   },
   "source": [
    "**Step 8: Training and Testing**"
   ]
  },
  {
   "cell_type": "code",
   "execution_count": 13,
   "metadata": {
    "colab": {
     "base_uri": "https://localhost:8080/",
     "height": 852
    },
    "id": "BtL5sFtZspQV",
    "outputId": "7e64941d-1b03-47ec-a686-48875979dc2e"
   },
   "outputs": [
    {
     "name": "stdout",
     "output_type": "stream",
     "text": [
      "Epoch 1/10\n",
      "7/7 [==============================] - 29s 3s/step - loss: 0.3808 - accuracy: 0.5000\n",
      "Epoch 2/10\n",
      "7/7 [==============================] - 21s 3s/step - loss: 0.3808 - accuracy: 0.5000\n",
      "Epoch 3/10\n",
      "7/7 [==============================] - 23s 3s/step - loss: 0.3767 - accuracy: 0.5000\n",
      "Epoch 4/10\n",
      "7/7 [==============================] - 21s 3s/step - loss: 0.3770 - accuracy: 0.5150\n",
      "Epoch 5/10\n",
      "7/7 [==============================] - 23s 3s/step - loss: 0.3693 - accuracy: 0.5000\n",
      "Epoch 6/10\n",
      "7/7 [==============================] - 22s 3s/step - loss: 0.3645 - accuracy: 0.5950\n",
      "Epoch 7/10\n",
      "7/7 [==============================] - 21s 3s/step - loss: 0.3465 - accuracy: 0.6700\n",
      "Epoch 8/10\n",
      "7/7 [==============================] - 23s 3s/step - loss: 0.3304 - accuracy: 0.6300\n",
      "Epoch 9/10\n",
      "7/7 [==============================] - 23s 3s/step - loss: 0.2653 - accuracy: 0.7900\n",
      "Epoch 10/10\n",
      "7/7 [==============================] - 22s 3s/step - loss: 0.1505 - accuracy: 0.9100\n"
     ]
    },
    {
     "data": {
      "image/png": "[encoded data removed]",
      "text/plain": [
       "<Figure size 1000x500 with 1 Axes>"
      ]
     },
     "metadata": {},
     "output_type": "display_data"
    },
    {
     "name": "stdout",
     "output_type": "stream",
     "text": [
      "2/2 [==============================] - 3s 563ms/step\n"
     ]
    }
   ],
   "source": [
    "import matplotlib.pyplot as plt\n",
    "import seaborn as sns\n",
    "from sklearn.metrics import confusion_matrix, classification_report\n",
    "\n",
    "\n",
    "model = CNN_LSTM_Text()\n",
    "history = model.fitModel(finalMatrix, Y, 10)\n",
    "\n",
    "\n",
    "plt.figure(figsize=(10,5))\n",
    "plt.plot(history.history['loss'], label='Training Loss')\n",
    "plt.title('Model Loss Progress During Training')\n",
    "plt.xlabel('Epoch')\n",
    "plt.ylabel('Training Loss')\n",
    "plt.legend(['Training Loss'])\n",
    "plt.show()\n",
    "\n",
    "\n",
    "Y_Pred = model.predictModel(finalMatrix_test)\n",
    "\n"
   ]
  },
  {
   "cell_type": "code",
   "execution_count": 14,
   "metadata": {
    "colab": {
     "base_uri": "https://localhost:8080/"
    },
    "id": "iCVzQ5QnQtpn",
    "outputId": "ad83e01b-7126-4dbb-e161-1c969356f217"
   },
   "outputs": [
    {
     "name": "stdout",
     "output_type": "stream",
     "text": [
      "Accuracy on test set: 0.70\n",
      "F1 Score on test set: 0.58\n",
      "Recall on test set: 0.45\n",
      "Precision on test set: 0.80\n"
     ]
    }
   ],
   "source": [
    "accuracy = accuracy_score(Y_test, Y_Pred)\n",
    "print(f\"Accuracy on test set: {accuracy:.2f}\")\n",
    "\n",
    "f1 = f1_score(Y_test, Y_Pred)\n",
    "print(f\"F1 Score on test set: {f1:.2f}\")\n",
    "\n",
    "\n",
    "recall = recall_score(Y_test, Y_Pred)\n",
    "print(f\"Recall on test set: {recall:.2f}\")\n",
    "\n",
    "\n",
    "precision = precision_score(Y_test, Y_Pred)\n",
    "print(f\"Precision on test set: {precision:.2f}\")"
   ]
  }
 ],
 "metadata": {
  "colab": {
   "provenance": []
  },
  "kernelspec": {
   "display_name": "Python 3 (ipykernel)",
   "language": "python",
   "name": "python3"
  },
  "language_info": {
   "codemirror_mode": {
    "name": "ipython",
    "version": 3
   },
   "file_extension": ".py",
   "mimetype": "text/x-python",
   "name": "python",
   "nbconvert_exporter": "python",
   "pygments_lexer": "ipython3",
   "version": "3.9.12"
  }
 },
 "nbformat": 4,
 "nbformat_minor": 0
}
