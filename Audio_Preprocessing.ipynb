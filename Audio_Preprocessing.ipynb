{
 "cells": [
  {
   "cell_type": "markdown",
   "metadata": {
    "id": "3fzLkimf1yZD"
   },
   "source": [
    "# Audio Data Preprocessing"
   ]
  },
  {
   "cell_type": "markdown",
   "metadata": {
    "id": "WOGTWBaH16YC"
   },
   "source": [
    "**Step 1: Import Libraries**"
   ]
  },
  {
   "cell_type": "code",
   "execution_count": null,
   "metadata": {
    "colab": {
     "base_uri": "https://localhost:8080/"
    },
    "id": "J1Ya1lJORCyk",
    "outputId": "c045ab57-541d-45ba-e876-5b6e6ed489e0"
   },
   "outputs": [
    {
     "name": "stdout",
     "output_type": "stream",
     "text": [
      "Mounted at /content/drive\n"
     ]
    }
   ],
   "source": [
    "from google.colab import drive\n",
    "drive.mount('/content/drive')\n",
    "import numpy as np\n",
    "import pandas as pd\n",
    "import sklearn\n",
    "import gc\n",
    "\n",
    "\n",
    "# Importing the Keras libraries and packages\n",
    "from keras.models import Sequential\n",
    "from keras.layers import Conv1D\n",
    "from keras.layers import MaxPooling1D\n",
    "from keras.layers import Flatten\n",
    "from keras.layers import Dense\n",
    "from keras.layers import Dropout\n",
    "from keras import metrics\n",
    "from sklearn.metrics import classification_report"
   ]
  },
  {
   "cell_type": "markdown",
   "metadata": {
    "id": "XnRQ07tQ1_xK"
   },
   "source": [
    "**Step 2: Loading Data**"
   ]
  },
  {
   "cell_type": "code",
   "execution_count": null,
   "metadata": {
    "colab": {
     "base_uri": "https://localhost:8080/"
    },
    "id": "EHwnhB7pydY0",
    "outputId": "6bf733c3-1b33-4585-d55f-58e343570275"
   },
   "outputs": [
    {
     "data": {
      "text/plain": [
       "0"
      ]
     },
     "execution_count": 2,
     "metadata": {},
     "output_type": "execute_result"
    }
   ],
   "source": [
    "def makedata(X):\n",
    "    for i in range(X.shape[0]):\n",
    "        if(X[i,1] == 0):\n",
    "            X[i,0] = 0\n",
    "            for j in range(7):\n",
    "                X[i,j+1] = 0\n",
    "    # X = np.array(X)\n",
    "    return X\n",
    "\n",
    "\n",
    "def upsample(X_train,Y_train):\n",
    "  X_train_0 = X_train[Y_train==0]\n",
    "  X_train_1 = X_train[Y_train==1]\n",
    "\n",
    "  Y_train_1 = Y_train[Y_train==1]\n",
    "  # print(Y_train_1.shape)\n",
    "  # print(X_train_1.shape)\n",
    "  size = X_train_0.shape[0] - X_train_1.shape[0]\n",
    "  X = []\n",
    "  Y = []\n",
    "  X_train = list(X_train)\n",
    "  Y_train = list(Y_train)\n",
    "  while(size>0):\n",
    "    size -= 1\n",
    "    index = np.random.randint(0,X_train_1.shape[0]-1)\n",
    "    leave_index = np.random.randint(0,len(X_train)-1)\n",
    "    X_add = X_train_1[index]\n",
    "    X_leave = X_train[leave_index]\n",
    "\n",
    "    Y_add = Y_train_1[index]\n",
    "    Y_leave = Y_train[leave_index]\n",
    "\n",
    "    X_train[leave_index] = X_add\n",
    "    X_train.append(X_leave)\n",
    "\n",
    "    Y_train[leave_index] = Y_add\n",
    "    Y_train.append(Y_leave)\n",
    "\n",
    "\n",
    "  X_train = np.array(X_train)\n",
    "  Y_train = np.array(Y_train)\n",
    "  return X_train,Y_train\n",
    "\n",
    "\n",
    "dev = np.array(pd.read_csv('/content/drive/My Drive/dev_split_Depression_AVEC2017.csv',delimiter=',',encoding='utf-8'))[:, 0:2]\n",
    "test = np.array(pd.read_csv('/content/drive/My Drive/full_test_split.csv',delimiter=',',encoding='utf-8'))[:, 0:2]\n",
    "train = np.array(pd.read_csv('/content/drive/My Drive/train_split_Depression_AVEC2017.csv',delimiter=',',encoding='utf-8'))[:, 0:2]\n",
    "\n",
    "X_train = []\n",
    "Y_train = []\n",
    "\n",
    "X_test = []\n",
    "Y_test = []\n",
    "size = 40000\n",
    "\n",
    "gc.collect()\n",
    "\n"
   ]
  },
  {
   "cell_type": "markdown",
   "metadata": {
    "id": "1vZAKwLy2NkJ"
   },
   "source": [
    "**Step 3: Obtaining Corresponding Audio Data**"
   ]
  },
  {
   "cell_type": "code",
   "execution_count": null,
   "metadata": {
    "id": "nfDR5cfH2Lf1"
   },
   "outputs": [],
   "source": [
    "for i in range(len(test)):\n",
    "    data = pd.read_csv('/content/drive/My Drive/'+str(int(test[i][0]))+\"_COVAREP.csv\",header = None)\n",
    "    X_temp = data.iloc[:,:].values\n",
    "    X_temp = makedata(X_temp)\n",
    "    X_temp = X_temp[X_temp.shape[0]-size:]\n",
    "    X_test.append(X_temp)\n",
    "    Y_test.append(test[i][1])\n",
    "\n",
    "X_test = np.array(X_test)\n",
    "Y_test = np.array(Y_test)\n",
    "test = []\n",
    "gc.collect()\n",
    "\n",
    "for i in range(len(train)):\n",
    "    data = pd.read_csv('/content/drive/My Drive/'+str(int(train[i][0]))+\"_COVAREP.csv\",header = None)\n",
    "    X_temp = data.iloc[:,:].values\n",
    "    X_temp = makedata(X_temp)\n",
    "    X_temp = X_temp[X_temp.shape[0]-size:]\n",
    "    X_train.append(X_temp)\n",
    "    Y_train.append(train[i][1])\n",
    "\n",
    "train = []"
   ]
  },
  {
   "cell_type": "code",
   "execution_count": null,
   "metadata": {
    "colab": {
     "base_uri": "https://localhost:8080/"
    },
    "id": "EVqr1Br5ZNjz",
    "outputId": "ab1fe4dc-28f1-43cf-e28b-b59c3ef1eaf0"
   },
   "outputs": [
    {
     "data": {
      "text/plain": [
       "0"
      ]
     },
     "execution_count": 3,
     "metadata": {},
     "output_type": "execute_result"
    }
   ],
   "source": [
    "for i in range(len(dev)):\n",
    "    data = pd.read_csv('/content/drive/My Drive/'+str(int(dev[i][0]))+\"_COVAREP.csv\",header = None)\n",
    "    X_temp = data.iloc[:,:].values\n",
    "    X_temp = makedata(X_temp)\n",
    "    X_temp = X_temp[X_temp.shape[0]-size:]\n",
    "    X_train.append(X_temp)\n",
    "    Y_train.append(dev[i][1])\n",
    "\n",
    "X_temp = []\n",
    "dev = []\n",
    "gc.collect()\n",
    "\n"
   ]
  },
  {
   "cell_type": "code",
   "execution_count": null,
   "metadata": {
    "id": "3p1lC9_tjGad"
   },
   "outputs": [],
   "source": [
    "X_train = np.array(X_train, dtype = object)\n",
    "Y_train = np.array(Y_train)\n"
   ]
  },
  {
   "cell_type": "code",
   "execution_count": null,
   "metadata": {
    "id": "HTMy89RxjA06"
   },
   "outputs": [],
   "source": [
    "X_train = np.array([np.array(xi, dtype=np.float32) for xi in X_train])\n",
    "Y_train = np.array([np.array(yi, dtype=np.float32) for yi in Y_train])\n"
   ]
  },
  {
   "cell_type": "markdown",
   "metadata": {
    "id": "7E4aUAlY3ZIW"
   },
   "source": [
    "**Step 4: Class Balancing**"
   ]
  },
  {
   "cell_type": "code",
   "execution_count": null,
   "metadata": {
    "colab": {
     "base_uri": "https://localhost:8080/"
    },
    "id": "V3EjUFAnjCB_",
    "outputId": "6e490360-65a8-463a-f995-bfeee892890a"
   },
   "outputs": [
    {
     "data": {
      "text/plain": [
       "0"
      ]
     },
     "execution_count": 6,
     "metadata": {},
     "output_type": "execute_result"
    }
   ],
   "source": [
    "X_upsample, Y_upsample = upsample(X_train,Y_train)\n",
    "# print(X_upsample.shape)\n",
    "X_train = []\n",
    "Y_train = []\n",
    "gc.collect()"
   ]
  },
  {
   "cell_type": "markdown",
   "metadata": {
    "id": "43UByAch3Tvq"
   },
   "source": [
    "**Step 5: Save Preprocessed Data**"
   ]
  },
  {
   "cell_type": "code",
   "execution_count": null,
   "metadata": {
    "id": "vcYcL6UC1wVu"
   },
   "outputs": [],
   "source": [
    "np.save(file=\"/content/drive/My Drive/X_upsample.npy\", arr=X_upsample)\n",
    "np.save(file=\"/content/drive/My Drive/Y_upsample.npy\", arr=Y_upsample)\n",
    "np.save(file=\"/content/drive/My Drive/X_test.npy\", arr=X_test)\n",
    "np.save(file=\"/content/drive/My Drive/Y_test.npy\", arr=Y_test)"
   ]
  }
 ],
 "metadata": {
  "accelerator": "GPU",
  "colab": {
   "gpuType": "A100",
   "machine_shape": "hm",
   "provenance": []
  },
  "kernelspec": {
   "display_name": "Python 3 (ipykernel)",
   "language": "python",
   "name": "python3"
  },
  "language_info": {
   "codemirror_mode": {
    "name": "ipython",
    "version": 3
   },
   "file_extension": ".py",
   "mimetype": "text/x-python",
   "name": "python",
   "nbconvert_exporter": "python",
   "pygments_lexer": "ipython3",
   "version": "3.9.12"
  }
 },
 "nbformat": 4,
 "nbformat_minor": 0
}
