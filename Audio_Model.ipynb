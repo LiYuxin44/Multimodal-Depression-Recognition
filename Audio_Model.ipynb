{
 "cells": [
  {
   "cell_type": "markdown",
   "metadata": {
    "id": "flW9k4SH7eER"
   },
   "source": [
    "# Audio Model"
   ]
  },
  {
   "cell_type": "markdown",
   "metadata": {
    "id": "Xzs_FoPq7hTn"
   },
   "source": [
    "**Step 1: Import Libraries**"
   ]
  },
  {
   "cell_type": "code",
   "execution_count": 2,
   "metadata": {
    "colab": {
     "base_uri": "https://localhost:8080/"
    },
    "id": "J1Ya1lJORCyk",
    "outputId": "756d43a5-3505-46c3-b4d8-f6dcd29fdb5e"
   },
   "outputs": [
    {
     "name": "stdout",
     "output_type": "stream",
     "text": [
      "Drive already mounted at /content/drive; to attempt to forcibly remount, call drive.mount(\"/content/drive\", force_remount=True).\n"
     ]
    }
   ],
   "source": [
    "from google.colab import drive\n",
    "drive.mount('/content/drive')\n",
    "import numpy as np\n",
    "import pandas as pd\n",
    "import sklearn\n",
    "import gc\n",
    "\n",
    "\n",
    "# Importing the Keras libraries and packages\n",
    "from keras.models import Sequential\n",
    "from keras.layers import Conv1D\n",
    "from keras.layers import MaxPooling1D\n",
    "from keras.layers import Flatten\n",
    "from keras.layers import Dense\n",
    "from keras.layers import Dropout\n",
    "from keras import metrics\n",
    "from sklearn.metrics import accuracy_score, f1_score, recall_score, precision_score"
   ]
  },
  {
   "cell_type": "markdown",
   "metadata": {
    "id": "YBg6VWuiSTFq"
   },
   "source": [
    "**Step 2: Import Audio Data**"
   ]
  },
  {
   "cell_type": "code",
   "execution_count": 3,
   "metadata": {
    "id": "W5nKfQH0STFr"
   },
   "outputs": [],
   "source": [
    "X_upsample= np.load(file=\"/content/drive/My Drive/X_upsample.npy\")\n",
    "Y_upsample= np.load(file=\"/content/drive/My Drive/Y_upsample.npy\")\n",
    "X_test= np.load(file=\"/content/drive/My Drive/X_test.npy\")\n",
    "Y_test= np.load(file=\"/content/drive/My Drive/Y_test.npy\")"
   ]
  },
  {
   "cell_type": "markdown",
   "metadata": {
    "id": "F2lRrjOH94uN"
   },
   "source": [
    "**Step 3: Audio Baseline -- CNN Audio Model**"
   ]
  },
  {
   "cell_type": "code",
   "execution_count": 4,
   "metadata": {
    "id": "0mHEQnKgTetU"
   },
   "outputs": [],
   "source": [
    "def Thresholding(Y_pred, threshold):\n",
    "  Y_pred2 = []\n",
    "  print(\"Y_pred: \", Y_pred.shape)\n",
    "  for i in range(len(Y_pred)):\n",
    "    if(Y_pred[i] < threshold):\n",
    "      Y_pred2.append(0)\n",
    "    else:\n",
    "      Y_pred2.append(1)\n",
    "\n",
    "  return np.array(Y_pred2)"
   ]
  },
  {
   "cell_type": "code",
   "execution_count": 17,
   "metadata": {
    "id": "aKBw_OtjTVrt"
   },
   "outputs": [],
   "source": [
    "class CNN_audio:\n",
    "\n",
    "  def __init__(self):\n",
    "# Initialising the CNN\n",
    "    classifier = Sequential()\n",
    "# Step 1 - Convolution\n",
    "    classifier.add(Conv1D(60, 10, input_shape = (40000, 74), activation = 'relu'))\n",
    "# Step 2 - Pooling\n",
    "    classifier.add(MaxPooling1D(pool_size = 3))\n",
    "# Adding a second convolutional layer\n",
    "    classifier.add(Conv1D(30, 5, activation = 'relu'))\n",
    "    classifier.add(MaxPooling1D(pool_size = 3))\n",
    "    classifier.add(Conv1D(15, 5, activation = 'relu'))\n",
    "    classifier.add(MaxPooling1D(pool_size = 3))\n",
    "# Step 3 - Flattening\n",
    "    classifier.add(Flatten())\n",
    "    classifier.add(Dropout(0.5))\n",
    "# Step 4 - Full connection\n",
    "    classifier.add(Dense(units = 128, activation = 'relu'))\n",
    "    classifier.add(Dense(units = 1, activation = 'sigmoid'))\n",
    "# classifier.add(Dense(units = 1, activation = 'sigmoid'))\n",
    "\n",
    "# Compiling the CNN\n",
    "    classifier.compile(optimizer = 'adam', loss = 'binary_crossentropy', metrics = ['accuracy'])\n",
    "    self.classifier = classifier\n",
    "\n",
    "  def modelFit(self, X, Y, epoch = 10):\n",
    "    return self.classifier.fit(X, Y, epochs=epoch)\n",
    "\n",
    "  def modelPredict(self, X):\n",
    "    return self.classifier.predict(X)\n",
    "\n"
   ]
  },
  {
   "cell_type": "markdown",
   "metadata": {
    "id": "Mr6HKcoQ8iZ_"
   },
   "source": [
    "**Step 4: Training and Testing**"
   ]
  },
  {
   "cell_type": "code",
   "execution_count": 18,
   "metadata": {
    "colab": {
     "base_uri": "https://localhost:8080/",
     "height": 906
    },
    "id": "Kq-39WJ69dU4",
    "outputId": "e3b25e82-d3df-4c92-8334-09b87ad525e6"
   },
   "outputs": [
    {
     "name": "stdout",
     "output_type": "stream",
     "text": [
      "Epoch 1/10\n",
      "7/7 [==============================] - 3s 92ms/step - loss: 28.0973 - accuracy: 0.4800\n",
      "Epoch 2/10\n",
      "7/7 [==============================] - 1s 93ms/step - loss: 0.5830 - accuracy: 0.7150\n",
      "Epoch 3/10\n",
      "7/7 [==============================] - 1s 99ms/step - loss: 0.4625 - accuracy: 0.7800\n",
      "Epoch 4/10\n",
      "7/7 [==============================] - 1s 90ms/step - loss: 0.2477 - accuracy: 0.9350\n",
      "Epoch 5/10\n",
      "7/7 [==============================] - 1s 96ms/step - loss: 0.0896 - accuracy: 0.9700\n",
      "Epoch 6/10\n",
      "7/7 [==============================] - 1s 102ms/step - loss: 0.0463 - accuracy: 0.9850\n",
      "Epoch 7/10\n",
      "7/7 [==============================] - 1s 93ms/step - loss: 0.0156 - accuracy: 0.9950\n",
      "Epoch 8/10\n",
      "7/7 [==============================] - 1s 92ms/step - loss: 0.0118 - accuracy: 0.9950\n",
      "Epoch 9/10\n",
      "7/7 [==============================] - 1s 93ms/step - loss: 0.0022 - accuracy: 1.0000\n",
      "Epoch 10/10\n",
      "7/7 [==============================] - 1s 90ms/step - loss: 0.0022 - accuracy: 1.0000\n"
     ]
    },
    {
     "data": {
      "image/png": "[encoded data removed]",
      "text/plain": [
       "<Figure size 1000x500 with 1 Axes>"
      ]
     },
     "metadata": {},
     "output_type": "display_data"
    },
    {
     "name": "stderr",
     "output_type": "stream",
     "text": [
      "WARNING:tensorflow:5 out of the last 9 calls to <function Model.make_predict_function.<locals>.predict_function at 0x7e8d147a9510> triggered tf.function retracing. Tracing is expensive and the excessive number of tracings could be due to (1) creating @tf.function repeatedly in a loop, (2) passing tensors with different shapes, (3) passing Python objects instead of tensors. For (1), please define your @tf.function outside of the loop. For (2), @tf.function has reduce_retracing=True option that can avoid unnecessary retracing. For (3), please refer to https://www.tensorflow.org/guide/function#controlling_retracing and https://www.tensorflow.org/api_docs/python/tf/function for  more details.\n"
     ]
    },
    {
     "name": "stdout",
     "output_type": "stream",
     "text": [
      "2/2 [==============================] - 1s 43ms/step\n",
      "Y_pred:  (47, 1)\n"
     ]
    }
   ],
   "source": [
    "import matplotlib.pyplot as plt\n",
    "import seaborn as sns\n",
    "from sklearn.metrics import confusion_matrix, classification_report\n",
    "\n",
    "\n",
    "model = CNN_audio()\n",
    "history = model.modelFit(X_upsample, Y_upsample, 10)\n",
    "\n",
    "plt.figure(figsize=(10,5))\n",
    "plt.plot(history.history['loss'], label='Training Loss')\n",
    "plt.title('Model Loss Progress During Training')\n",
    "plt.xlabel('Epoch')\n",
    "plt.ylabel('Training Loss')\n",
    "plt.legend(['Training Loss'])\n",
    "plt.show()\n",
    "\n",
    "\n",
    "Y_pred = Thresholding(model.modelPredict(X_test), 0.8)\n"
   ]
  },
  {
   "cell_type": "code",
   "execution_count": 27,
   "metadata": {
    "colab": {
     "base_uri": "https://localhost:8080/"
    },
    "id": "rzRLhQELAxJ1",
    "outputId": "db8d765e-b868-445c-f411-6a614fcf2290"
   },
   "outputs": [
    {
     "name": "stdout",
     "output_type": "stream",
     "text": [
      "Accuracy on test set: 0.68\n",
      "F1 Score on test set: 0.59\n",
      "Recall on test set: 0.48\n",
      "Precision on test set: 0.77\n"
     ]
    }
   ],
   "source": [
    "accuracy = accuracy_score(Y_test, Y_pred)\n",
    "print(f\"Accuracy on test set: {accuracy:.2f}\")\n",
    "\n",
    "f1 = f1_score(Y_test, Y_pred)\n",
    "print(f\"F1 Score on test set: {f1:.2f}\")\n",
    "\n",
    "\n",
    "recall = recall_score(Y_test, Y_pred)\n",
    "print(f\"Recall on test set: {recall:.2f}\")\n",
    "\n",
    "\n",
    "precision = precision_score(Y_test, Y_pred)\n",
    "print(f\"Precision on test set: {precision:.2f}\")"
   ]
  },
  {
   "cell_type": "markdown",
   "metadata": {
    "id": "99pAmMlv4Kds"
   },
   "source": [
    "**Step 5: Audio Baseline -- BiLSTM Audio Model**"
   ]
  },
  {
   "cell_type": "code",
   "execution_count": 5,
   "metadata": {
    "id": "IHWPGc-L4Ks6"
   },
   "outputs": [],
   "source": [
    "from keras.models import Sequential\n",
    "from keras.layers import Dense, LSTM, Dropout, Flatten, Bidirectional\n",
    "\n",
    "class BiLSTM_audio:\n",
    "\n",
    "    def __init__(self):\n",
    "        # Initialising the BiLSTM model\n",
    "        classifier = Sequential()\n",
    "\n",
    "        # Adding BiLSTM layers\n",
    "        classifier.add(Bidirectional(LSTM(60, return_sequences=True), input_shape=(40000, 74)))\n",
    "        classifier.add(Dropout(0.5))\n",
    "        classifier.add(Bidirectional(LSTM(30, return_sequences=True)))\n",
    "        classifier.add(Dropout(0.5))\n",
    "        classifier.add(Bidirectional(LSTM(15)))\n",
    "        classifier.add(Dropout(0.5))\n",
    "\n",
    "        # Flattening (Not really necessary after LSTM as the output is already 2D, but it won't harm)\n",
    "        classifier.add(Flatten())\n",
    "\n",
    "        # Full connection\n",
    "        classifier.add(Dense(units=128, activation='relu'))\n",
    "        classifier.add(Dense(units=1, activation='sigmoid'))\n",
    "\n",
    "        # Compiling the BiLSTM\n",
    "        classifier.compile(optimizer='adam', loss='binary_crossentropy', metrics=['accuracy'])\n",
    "        self.classifier = classifier\n",
    "\n",
    "    def modelFit(self, X, Y, epoch=10):\n",
    "        return self.classifier.fit(X, Y, epochs=epoch)\n",
    "\n",
    "    def modelPredict(self, X):\n",
    "        return self.classifier.predict(X)\n"
   ]
  },
  {
   "cell_type": "code",
   "execution_count": 6,
   "metadata": {
    "colab": {
     "base_uri": "https://localhost:8080/",
     "height": 869
    },
    "id": "m0roT0AY4XBg",
    "outputId": "55d346d2-01ac-4ae3-802a-96ab6363ed94"
   },
   "outputs": [
    {
     "name": "stdout",
     "output_type": "stream",
     "text": [
      "Epoch 1/10\n",
      "7/7 [==============================] - 58s 5s/step - loss: 0.7001 - accuracy: 0.4550\n",
      "Epoch 2/10\n",
      "7/7 [==============================] - 40s 6s/step - loss: 0.6826 - accuracy: 0.5950\n",
      "Epoch 3/10\n",
      "7/7 [==============================] - 39s 6s/step - loss: 0.6604 - accuracy: 0.6750\n",
      "Epoch 4/10\n",
      "7/7 [==============================] - 38s 6s/step - loss: 0.6546 - accuracy: 0.6400\n",
      "Epoch 5/10\n",
      "7/7 [==============================] - 38s 5s/step - loss: 0.6119 - accuracy: 0.6900\n",
      "Epoch 6/10\n",
      "7/7 [==============================] - 38s 5s/step - loss: 0.5609 - accuracy: 0.7700\n",
      "Epoch 7/10\n",
      "7/7 [==============================] - 39s 5s/step - loss: 0.5031 - accuracy: 0.8100\n",
      "Epoch 8/10\n",
      "7/7 [==============================] - 38s 5s/step - loss: 0.4824 - accuracy: 0.8000\n",
      "Epoch 9/10\n",
      "7/7 [==============================] - 38s 6s/step - loss: 0.4402 - accuracy: 0.8250\n",
      "Epoch 10/10\n",
      "7/7 [==============================] - 39s 6s/step - loss: 0.3669 - accuracy: 0.8850\n"
     ]
    },
    {
     "data": {
      "image/png": "[encoded data removed]",
      "text/plain": [
       "<Figure size 1000x500 with 1 Axes>"
      ]
     },
     "metadata": {},
     "output_type": "display_data"
    },
    {
     "name": "stdout",
     "output_type": "stream",
     "text": [
      "2/2 [==============================] - 6s 2s/step\n",
      "Y_pred:  (47, 1)\n"
     ]
    }
   ],
   "source": [
    "import matplotlib.pyplot as plt\n",
    "import seaborn as sns\n",
    "from sklearn.metrics import confusion_matrix, classification_report\n",
    "\n",
    "# Instantiate the LSTM model instead of CNN\n",
    "model = BiLSTM_audio()\n",
    "\n",
    "# Fit the model using the upsampled data\n",
    "history = model.modelFit(X_upsample, Y_upsample, 10)\n",
    "\n",
    "# Plotting the training loss\n",
    "plt.figure(figsize=(10,5))\n",
    "plt.plot(history.history['loss'], label='Training Loss')\n",
    "plt.title('Model Loss Progress During Training')\n",
    "plt.xlabel('Epoch')\n",
    "plt.ylabel('Training Loss')\n",
    "plt.legend(['Training Loss'])\n",
    "plt.show()\n",
    "\n",
    "# Making predictions using a threshold of 0.8\n",
    "Y_pred = Thresholding(model.modelPredict(X_test), 0.8)\n"
   ]
  },
  {
   "cell_type": "code",
   "execution_count": 8,
   "metadata": {
    "colab": {
     "base_uri": "https://localhost:8080/"
    },
    "id": "BTsrqC-tA28Z",
    "outputId": "9e0f4ef9-df0b-4315-cd17-aefe8551f9a6"
   },
   "outputs": [
    {
     "name": "stdout",
     "output_type": "stream",
     "text": [
      "Accuracy on test set: 0.65\n",
      "F1 Score on test set: 0.45\n",
      "Recall on test set: 0.42\n",
      "Precision on test set: 0.50\n"
     ]
    }
   ],
   "source": [
    "accuracy = accuracy_score(Y_test, Y_pred)\n",
    "print(f\"Accuracy on test set: {accuracy:.2f}\")\n",
    "\n",
    "f1 = f1_score(Y_test, Y_pred)\n",
    "print(f\"F1 Score on test set: {f1:.2f}\")\n",
    "\n",
    "\n",
    "recall = recall_score(Y_test, Y_pred)\n",
    "print(f\"Recall on test set: {recall:.2f}\")\n",
    "\n",
    "\n",
    "precision = precision_score(Y_test, Y_pred)\n",
    "print(f\"Precision on test set: {precision:.2f}\")"
   ]
  },
  {
   "cell_type": "markdown",
   "metadata": {
    "id": "NMcy9UokSTFr"
   },
   "source": [
    "**Step 5: CNN+BiLSTM Audio Model**"
   ]
  },
  {
   "cell_type": "code",
   "execution_count": 7,
   "metadata": {
    "id": "xw6TsdU9myjz"
   },
   "outputs": [],
   "source": [
    "from tensorflow.keras.layers import Bidirectional, LSTM\n",
    "\n",
    "class CNN_LSTM_audio:\n",
    "    def __init__(self):\n",
    "        # Initialising the CNN\n",
    "        classifier = Sequential()\n",
    "        # Step 1 - Convolution\n",
    "        classifier.add(Conv1D(60, 10, input_shape = (40000, 74), activation = 'relu'))\n",
    "        # Step 2 - Pooling\n",
    "        classifier.add(MaxPooling1D(pool_size = 3))\n",
    "        # Adding a second convolutional layer\n",
    "        classifier.add(Conv1D(30, 5, activation = 'relu'))\n",
    "        classifier.add(MaxPooling1D(pool_size = 3))\n",
    "        classifier.add(Conv1D(15, 5, activation = 'relu'))\n",
    "        classifier.add(MaxPooling1D(pool_size = 3))\n",
    "        # Add LSTM Layer\n",
    "        classifier.add(Bidirectional(LSTM(64, return_sequences=True)))\n",
    "\n",
    "        # Step 3 - Flattening\n",
    "        classifier.add(Flatten())\n",
    "        classifier.add(Dropout(0.5))\n",
    "        # Step 4 - Full connection\n",
    "        classifier.add(Dense(units = 128, activation = 'relu'))\n",
    "        classifier.add(Dense(units = 1, activation = 'sigmoid'))\n",
    "\n",
    "        # Compiling the CNN\n",
    "        classifier.compile(optimizer = 'adam', loss = 'binary_crossentropy', metrics = ['accuracy'])\n",
    "        self.classifier = classifier\n",
    "\n",
    "    def modelFit(self, X, Y, epoch = 10):\n",
    "        return self.classifier.fit(X, Y, epochs=epoch)\n",
    "\n",
    "    def modelPredict(self, X):\n",
    "        return self.classifier.predict(X)\n",
    "\n",
    "\n"
   ]
  },
  {
   "cell_type": "markdown",
   "metadata": {
    "id": "oWJh4oj5-xl7"
   },
   "source": [
    "**Step 6: Training and Testing**"
   ]
  },
  {
   "cell_type": "code",
   "execution_count": 12,
   "metadata": {
    "colab": {
     "base_uri": "https://localhost:8080/",
     "height": 869
    },
    "id": "DmycI_K1-qsR",
    "outputId": "5578e00d-ecfc-4cd0-9fcf-f970e820b562"
   },
   "outputs": [
    {
     "name": "stdout",
     "output_type": "stream",
     "text": [
      "Epoch 1/10\n",
      "7/7 [==============================] - 6s 174ms/step - loss: 13.6087 - accuracy: 0.4900\n",
      "Epoch 2/10\n",
      "7/7 [==============================] - 1s 169ms/step - loss: 10.7306 - accuracy: 0.4650\n",
      "Epoch 3/10\n",
      "7/7 [==============================] - 1s 170ms/step - loss: 2.0731 - accuracy: 0.5600\n",
      "Epoch 4/10\n",
      "7/7 [==============================] - 1s 173ms/step - loss: 0.7580 - accuracy: 0.6350\n",
      "Epoch 5/10\n",
      "7/7 [==============================] - 1s 167ms/step - loss: 0.3595 - accuracy: 0.8500\n",
      "Epoch 6/10\n",
      "7/7 [==============================] - 1s 170ms/step - loss: 0.1668 - accuracy: 0.9400\n",
      "Epoch 7/10\n",
      "7/7 [==============================] - 1s 173ms/step - loss: 0.0971 - accuracy: 0.9850\n",
      "Epoch 8/10\n",
      "7/7 [==============================] - 1s 169ms/step - loss: 0.0821 - accuracy: 0.9850\n",
      "Epoch 9/10\n",
      "7/7 [==============================] - 1s 165ms/step - loss: 0.0378 - accuracy: 0.9950\n",
      "Epoch 10/10\n",
      "7/7 [==============================] - 1s 168ms/step - loss: 0.0265 - accuracy: 0.9950\n"
     ]
    },
    {
     "data": {
      "image/png": "[encoded data removed]",
      "text/plain": [
       "<Figure size 1000x500 with 1 Axes>"
      ]
     },
     "metadata": {},
     "output_type": "display_data"
    },
    {
     "name": "stdout",
     "output_type": "stream",
     "text": [
      "2/2 [==============================] - 1s 75ms/step\n",
      "Y_pred:  (47, 1)\n"
     ]
    }
   ],
   "source": [
    "import matplotlib.pyplot as plt\n",
    "import seaborn as sns\n",
    "from sklearn.metrics import confusion_matrix, classification_report\n",
    "\n",
    "\n",
    "model = CNN_LSTM_audio()\n",
    "history = model.modelFit(X_upsample, Y_upsample, 10)\n",
    "\n",
    "\n",
    "plt.figure(figsize=(10,5))\n",
    "plt.plot(history.history['loss'], label='Training Loss')\n",
    "plt.title('Model Loss Progress During Training')\n",
    "plt.xlabel('Epoch')\n",
    "plt.ylabel('Training Loss')\n",
    "plt.legend(['Training Loss'])\n",
    "plt.show()\n",
    "\n",
    "\n",
    "Y_pred = Thresholding(model.modelPredict(X_test), 0.8)\n"
   ]
  },
  {
   "cell_type": "code",
   "execution_count": 28,
   "metadata": {
    "colab": {
     "base_uri": "https://localhost:8080/"
    },
    "id": "hdA0RTGUB4Rv",
    "outputId": "4f5a82fa-4f67-4289-f138-80a525098759"
   },
   "outputs": [
    {
     "name": "stdout",
     "output_type": "stream",
     "text": [
      "Accuracy on test set: 0.72\n",
      "F1 Score on test set: 0.61\n",
      "Recall on test set: 0.52\n",
      "Precision on test set: 10.75\n"
     ]
    }
   ],
   "source": [
    "# Accuracy\n",
    "accuracy = accuracy_score(Y_test, Y_pred)\n",
    "print(f\"Accuracy on test set: {accuracy:.2f}\")\n",
    "# F1-Score\n",
    "f1 = f1_score(Y_test, Y_pred)\n",
    "print(f\"F1 Score on test set: {f1:.2f}\")\n",
    "\n",
    "# Recall\n",
    "recall = recall_score(Y_test, Y_pred)\n",
    "print(f\"Recall on test set: {recall:.2f}\")\n",
    "\n",
    "# Precision\n",
    "precision = precision_score(Y_test, Y_pred)\n",
    "print(f\"Precision on test set: {precision:.2f}\")"
   ]
  }
 ],
 "metadata": {
  "accelerator": "GPU",
  "colab": {
   "gpuType": "T4",
   "machine_shape": "hm",
   "provenance": []
  },
  "kernelspec": {
   "display_name": "Python 3 (ipykernel)",
   "language": "python",
   "name": "python3"
  },
  "language_info": {
   "codemirror_mode": {
    "name": "ipython",
    "version": 3
   },
   "file_extension": ".py",
   "mimetype": "text/x-python",
   "name": "python",
   "nbconvert_exporter": "python",
   "pygments_lexer": "ipython3",
   "version": "3.9.12"
  }
 },
 "nbformat": 4,
 "nbformat_minor": 0
}
